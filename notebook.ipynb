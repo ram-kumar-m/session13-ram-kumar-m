{
 "cells": [
  {
   "cell_type": "code",
   "execution_count": 1,
   "metadata": {},
   "outputs": [],
   "source": [
    "%load_ext autoreload\n",
    "%autoreload 2"
   ]
  },
  {
   "cell_type": "code",
   "execution_count": 4,
   "metadata": {},
   "outputs": [],
   "source": [
    "import polygon\n",
    "import polygon_seq"
   ]
  },
  {
   "cell_type": "code",
   "execution_count": 5,
   "metadata": {},
   "outputs": [],
   "source": [
    "num_sides = 3\n",
    "cir_radius = 6\n",
    "gon = polygon.Polygon(num_sides, cir_radius)"
   ]
  },
  {
   "cell_type": "markdown",
   "metadata": {},
   "source": [
    "## Testing for "
   ]
  },
  {
   "cell_type": "code",
   "execution_count": 6,
   "metadata": {},
   "outputs": [
    {
     "output_type": "execute_result",
     "data": {
      "text/plain": [
       "60.0"
      ]
     },
     "metadata": {},
     "execution_count": 6
    }
   ],
   "source": [
    "gon.interior_angle"
   ]
  },
  {
   "cell_type": "code",
   "execution_count": 7,
   "metadata": {},
   "outputs": [
    {
     "output_type": "execute_result",
     "data": {
      "text/plain": [
       "10.392304845413264"
      ]
     },
     "metadata": {},
     "execution_count": 7
    }
   ],
   "source": [
    "gon.edge_length"
   ]
  },
  {
   "cell_type": "code",
   "execution_count": 8,
   "metadata": {},
   "outputs": [
    {
     "output_type": "execute_result",
     "data": {
      "text/plain": [
       "3.000000000000001"
      ]
     },
     "metadata": {},
     "execution_count": 8
    }
   ],
   "source": [
    "gon.apothem"
   ]
  },
  {
   "cell_type": "code",
   "execution_count": 9,
   "metadata": {},
   "outputs": [
    {
     "output_type": "execute_result",
     "data": {
      "text/plain": [
       "4.500000000000002"
      ]
     },
     "metadata": {},
     "execution_count": 9
    }
   ],
   "source": [
    "gon.area"
   ]
  },
  {
   "cell_type": "code",
   "execution_count": 10,
   "metadata": {},
   "outputs": [
    {
     "output_type": "execute_result",
     "data": {
      "text/plain": [
       "31.176914536239792"
      ]
     },
     "metadata": {},
     "execution_count": 10
    }
   ],
   "source": [
    "gon.perimeter"
   ]
  },
  {
   "cell_type": "code",
   "execution_count": 11,
   "metadata": {},
   "outputs": [
    {
     "output_type": "execute_result",
     "data": {
      "text/plain": [
       "'Polygon(sides=3, edge=10.392, circumradius=6, area=4.5, perimeter=31.177)'"
      ]
     },
     "metadata": {},
     "execution_count": 11
    }
   ],
   "source": [
    "str(gon)"
   ]
  },
  {
   "cell_type": "code",
   "execution_count": 14,
   "metadata": {},
   "outputs": [],
   "source": [
    "poly = polygon.Polygon(6, 6)"
   ]
  },
  {
   "cell_type": "code",
   "execution_count": 15,
   "metadata": {},
   "outputs": [
    {
     "output_type": "execute_result",
     "data": {
      "text/plain": [
       "False"
      ]
     },
     "metadata": {},
     "execution_count": 15
    }
   ],
   "source": [
    "poly == gon"
   ]
  },
  {
   "cell_type": "markdown",
   "metadata": {},
   "source": [
    "a isn't a gon, sadly neither is poly"
   ]
  },
  {
   "cell_type": "code",
   "execution_count": 16,
   "metadata": {},
   "outputs": [
    {
     "output_type": "error",
     "ename": "TypeError",
     "evalue": "a isn't a polygon",
     "traceback": [
      "\u001b[1;31m---------------------------------------------------------------------------\u001b[0m",
      "\u001b[1;31mTypeError\u001b[0m                                 Traceback (most recent call last)",
      "\u001b[1;32m<ipython-input-16-0dd49e4cdf6e>\u001b[0m in \u001b[0;36m<module>\u001b[1;34m\u001b[0m\n\u001b[1;32m----> 1\u001b[1;33m \u001b[1;34m'a'\u001b[0m \u001b[1;33m==\u001b[0m \u001b[0mgon\u001b[0m\u001b[1;33m\u001b[0m\u001b[1;33m\u001b[0m\u001b[0m\n\u001b[0m",
      "\u001b[1;32me:\\tsai\\epai\\session13-ram-kumar-m\\polygon.py\u001b[0m in \u001b[0;36m__eq__\u001b[1;34m(self, other)\u001b[0m\n\u001b[0;32m     82\u001b[0m         \u001b[1;34m\"Checks equality of two polygon objects using num_sides and circumradius\"\u001b[0m\u001b[1;33m\u001b[0m\u001b[1;33m\u001b[0m\u001b[0m\n\u001b[0;32m     83\u001b[0m         \u001b[1;32mif\u001b[0m \u001b[1;32mnot\u001b[0m \u001b[0misinstance\u001b[0m\u001b[1;33m(\u001b[0m\u001b[0mother\u001b[0m\u001b[1;33m,\u001b[0m \u001b[0mPolygon\u001b[0m\u001b[1;33m)\u001b[0m\u001b[1;33m:\u001b[0m\u001b[1;33m\u001b[0m\u001b[1;33m\u001b[0m\u001b[0m\n\u001b[1;32m---> 84\u001b[1;33m             \u001b[1;32mraise\u001b[0m \u001b[0mTypeError\u001b[0m\u001b[1;33m(\u001b[0m\u001b[1;34mf\"{other} isn't a polygon\"\u001b[0m\u001b[1;33m)\u001b[0m\u001b[1;33m\u001b[0m\u001b[1;33m\u001b[0m\u001b[0m\n\u001b[0m\u001b[0;32m     85\u001b[0m         \u001b[1;32melse\u001b[0m\u001b[1;33m:\u001b[0m\u001b[1;33m\u001b[0m\u001b[1;33m\u001b[0m\u001b[0m\n\u001b[0;32m     86\u001b[0m             \u001b[1;32mreturn\u001b[0m \u001b[0mself\u001b[0m\u001b[1;33m.\u001b[0m\u001b[0mvertices\u001b[0m \u001b[1;33m==\u001b[0m \u001b[0mother\u001b[0m\u001b[1;33m.\u001b[0m\u001b[0mvertices\u001b[0m \u001b[1;32mand\u001b[0m \u001b[0mself\u001b[0m\u001b[1;33m.\u001b[0m\u001b[0mcir_radius\u001b[0m \u001b[1;33m==\u001b[0m \u001b[0mother\u001b[0m\u001b[1;33m.\u001b[0m\u001b[0mcir_radius\u001b[0m\u001b[1;33m\u001b[0m\u001b[1;33m\u001b[0m\u001b[0m\n",
      "\u001b[1;31mTypeError\u001b[0m: a isn't a polygon"
     ]
    }
   ],
   "source": [
    "'a' == gon"
   ]
  },
  {
   "cell_type": "code",
   "execution_count": 17,
   "metadata": {},
   "outputs": [],
   "source": [
    "by = polygon.Polygon(3, 6)"
   ]
  },
  {
   "source": [
    "So let bygons be bygones"
   ],
   "cell_type": "markdown",
   "metadata": {}
  },
  {
   "cell_type": "code",
   "execution_count": 21,
   "metadata": {},
   "outputs": [
    {
     "output_type": "execute_result",
     "data": {
      "text/plain": [
       "False"
      ]
     },
     "metadata": {},
     "execution_count": 21
    }
   ],
   "source": [
    "gon > poly"
   ]
  },
  {
   "cell_type": "code",
   "execution_count": 22,
   "metadata": {},
   "outputs": [
    {
     "output_type": "execute_result",
     "data": {
      "text/plain": [
       "True"
      ]
     },
     "metadata": {},
     "execution_count": 22
    }
   ],
   "source": [
    "poly > gon"
   ]
  },
  {
   "cell_type": "code",
   "execution_count": 18,
   "metadata": {},
   "outputs": [
    {
     "output_type": "execute_result",
     "data": {
      "text/plain": [
       "True"
      ]
     },
     "metadata": {},
     "execution_count": 18
    }
   ],
   "source": [
    "by == gon"
   ]
  },
  {
   "cell_type": "code",
   "execution_count": 23,
   "metadata": {},
   "outputs": [
    {
     "output_type": "execute_result",
     "data": {
      "text/plain": [
       "False"
      ]
     },
     "metadata": {},
     "execution_count": 23
    }
   ],
   "source": [
    "by > gon"
   ]
  },
  {
   "cell_type": "code",
   "execution_count": 24,
   "metadata": {},
   "outputs": [
    {
     "output_type": "execute_result",
     "data": {
      "text/plain": [
       "False"
      ]
     },
     "metadata": {},
     "execution_count": 24
    }
   ],
   "source": [
    "by < gon"
   ]
  },
  {
   "cell_type": "code",
   "execution_count": 25,
   "metadata": {},
   "outputs": [
    {
     "output_type": "execute_result",
     "data": {
      "text/plain": [
       "True"
      ]
     },
     "metadata": {},
     "execution_count": 25
    }
   ],
   "source": [
    "gon < poly"
   ]
  },
  {
   "cell_type": "markdown",
   "metadata": {},
   "source": [
    "## Polygon Sequence"
   ]
  },
  {
   "cell_type": "code",
   "execution_count": 26,
   "metadata": {},
   "outputs": [],
   "source": [
    "poly_seq = polygon_seq.PolygonSequence(25, 10)"
   ]
  },
  {
   "cell_type": "code",
   "execution_count": 29,
   "metadata": {},
   "outputs": [
    {
     "output_type": "execute_result",
     "data": {
      "text/plain": [
       "PolygonSequence(max_vertices=25, circumradius=10) has actual 23 polygons in the lot"
      ]
     },
     "metadata": {},
     "execution_count": 29
    }
   ],
   "source": [
    "poly_seq"
   ]
  },
  {
   "cell_type": "code",
   "execution_count": 30,
   "metadata": {},
   "outputs": [
    {
     "output_type": "execute_result",
     "data": {
      "text/plain": [
       "[Polygon(sides=3, edge=17.321, circumradius=10, area=7.5, perimeter=51.962),\n",
       " Polygon(sides=4, edge=14.142, circumradius=10, area=14.142, perimeter=56.569),\n",
       " Polygon(sides=5, edge=11.756, circumradius=10, area=20.225, perimeter=58.779),\n",
       " Polygon(sides=6, edge=10.0, circumradius=10, area=25.981, perimeter=60.0),\n",
       " Polygon(sides=7, edge=8.678, circumradius=10, area=31.534, perimeter=60.744),\n",
       " Polygon(sides=8, edge=7.654, circumradius=10, area=36.955, perimeter=61.229),\n",
       " Polygon(sides=9, edge=6.84, circumradius=10, area=42.286, perimeter=61.564),\n",
       " Polygon(sides=10, edge=6.18, circumradius=10, area=47.553, perimeter=61.803),\n",
       " Polygon(sides=11, edge=5.635, circumradius=10, area=52.772, perimeter=61.981),\n",
       " Polygon(sides=12, edge=5.176, circumradius=10, area=57.956, perimeter=62.117),\n",
       " Polygon(sides=13, edge=4.786, circumradius=10, area=63.111, perimeter=62.222),\n",
       " Polygon(sides=14, edge=4.45, circumradius=10, area=68.245, perimeter=62.306),\n",
       " Polygon(sides=15, edge=4.158, circumradius=10, area=73.361, perimeter=62.374),\n",
       " Polygon(sides=16, edge=3.902, circumradius=10, area=78.463, perimeter=62.429),\n",
       " Polygon(sides=17, edge=3.675, circumradius=10, area=83.553, perimeter=62.475),\n",
       " Polygon(sides=18, edge=3.473, circumradius=10, area=88.633, perimeter=62.513),\n",
       " Polygon(sides=19, edge=3.292, circumradius=10, area=93.704, perimeter=62.546),\n",
       " Polygon(sides=20, edge=3.129, circumradius=10, area=98.769, perimeter=62.574),\n",
       " Polygon(sides=21, edge=2.981, circumradius=10, area=103.827, perimeter=62.598),\n",
       " Polygon(sides=22, edge=2.846, circumradius=10, area=108.88, perimeter=62.619),\n",
       " Polygon(sides=23, edge=2.723, circumradius=10, area=113.929, perimeter=62.637),\n",
       " Polygon(sides=24, edge=2.611, circumradius=10, area=118.973, perimeter=62.653),\n",
       " Polygon(sides=25, edge=2.507, circumradius=10, area=124.014, perimeter=62.667)]"
      ]
     },
     "metadata": {},
     "execution_count": 30
    }
   ],
   "source": [
    "poly_seq.polygons"
   ]
  },
  {
   "cell_type": "code",
   "execution_count": 31,
   "metadata": {},
   "outputs": [
    {
     "output_type": "execute_result",
     "data": {
      "text/plain": [
       "Polygon(sides=25, edge=2.507, circumradius=10, area=124.014, perimeter=62.667)"
      ]
     },
     "metadata": {},
     "execution_count": 31
    }
   ],
   "source": [
    "poly_seq.max_eff_polygon"
   ]
  },
  {
   "source": [
    "## So a polygon with 25 sides has the highest efficiency."
   ],
   "cell_type": "markdown",
   "metadata": {}
  },
  {
   "cell_type": "code",
   "execution_count": 32,
   "metadata": {},
   "outputs": [
    {
     "output_type": "execute_result",
     "data": {
      "text/plain": [
       "[Polygon(sides=3, edge=17.321, circumradius=10, area=7.5, perimeter=51.962),\n",
       " Polygon(sides=4, edge=14.142, circumradius=10, area=14.142, perimeter=56.569),\n",
       " Polygon(sides=5, edge=11.756, circumradius=10, area=20.225, perimeter=58.779),\n",
       " Polygon(sides=6, edge=10.0, circumradius=10, area=25.981, perimeter=60.0),\n",
       " Polygon(sides=7, edge=8.678, circumradius=10, area=31.534, perimeter=60.744)]"
      ]
     },
     "metadata": {},
     "execution_count": 32
    }
   ],
   "source": [
    "poly_seq[0:5]"
   ]
  },
  {
   "cell_type": "code",
   "execution_count": 33,
   "metadata": {},
   "outputs": [
    {
     "output_type": "execute_result",
     "data": {
      "text/plain": [
       "Polygon(sides=25, edge=2.507, circumradius=10, area=124.014, perimeter=62.667)"
      ]
     },
     "metadata": {},
     "execution_count": 33
    }
   ],
   "source": [
    "poly_seq[-1]"
   ]
  },
  {
   "cell_type": "code",
   "execution_count": 34,
   "metadata": {},
   "outputs": [
    {
     "output_type": "execute_result",
     "data": {
      "text/plain": [
       "IndexError"
      ]
     },
     "metadata": {},
     "execution_count": 34
    }
   ],
   "source": [
    "poly_seq[35]"
   ]
  },
  {
   "cell_type": "code",
   "execution_count": null,
   "metadata": {},
   "outputs": [],
   "source": []
  }
 ],
 "metadata": {
  "kernelspec": {
   "display_name": "Python 3",
   "language": "python",
   "name": "python3"
  },
  "language_info": {
   "codemirror_mode": {
    "name": "ipython",
    "version": 3
   },
   "file_extension": ".py",
   "mimetype": "text/x-python",
   "name": "python",
   "nbconvert_exporter": "python",
   "pygments_lexer": "ipython3",
   "version": "3.8.3-final"
  }
 },
 "nbformat": 4,
 "nbformat_minor": 4
}